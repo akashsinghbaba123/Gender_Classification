{
  "cells": [
    {
      "cell_type": "markdown",
      "metadata": {
        "id": "XkAAEMOn8zHN"
      },
      "source": [
        "### 1.1 Install required libraries"
      ]
    },
    {
      "cell_type": "code",
      "execution_count": 1,
      "metadata": {
        "id": "5aqczRVACdqe",
        "colab": {
          "base_uri": "https://localhost:8080/"
        },
        "outputId": "4119da8b-281f-4a01-a2dc-465cf3b9c744"
      },
      "outputs": [
        {
          "output_type": "stream",
          "name": "stdout",
          "text": [
            "\u001b[2K     \u001b[90m━━━━━━━━━━━━━━━━━━━━━━━━━━━━━━━━━━━━━━━━\u001b[0m \u001b[32m8.1/8.1 MB\u001b[0m \u001b[31m15.7 MB/s\u001b[0m eta \u001b[36m0:00:00\u001b[0m\n",
            "\u001b[2K     \u001b[90m━━━━━━━━━━━━━━━━━━━━━━━━━━━━━━━━━━━━━━\u001b[0m \u001b[32m164.8/164.8 kB\u001b[0m \u001b[31m12.5 MB/s\u001b[0m eta \u001b[36m0:00:00\u001b[0m\n",
            "\u001b[?25h  Preparing metadata (setup.py) ... \u001b[?25l\u001b[?25hdone\n",
            "\u001b[2K     \u001b[90m━━━━━━━━━━━━━━━━━━━━━━━━━━━━━━━━━━━━━━\u001b[0m \u001b[32m188.5/188.5 kB\u001b[0m \u001b[31m14.5 MB/s\u001b[0m eta \u001b[36m0:00:00\u001b[0m\n",
            "\u001b[2K     \u001b[90m━━━━━━━━━━━━━━━━━━━━━━━━━━━━━━━━━━━━━━━━\u001b[0m \u001b[32m4.7/4.7 MB\u001b[0m \u001b[31m36.2 MB/s\u001b[0m eta \u001b[36m0:00:00\u001b[0m\n",
            "\u001b[2K     \u001b[90m━━━━━━━━━━━━━━━━━━━━━━━━━━━━━━━━━━━━━━━━\u001b[0m \u001b[32m82.1/82.1 kB\u001b[0m \u001b[31m7.6 MB/s\u001b[0m eta \u001b[36m0:00:00\u001b[0m\n",
            "\u001b[2K     \u001b[90m━━━━━━━━━━━━━━━━━━━━━━━━━━━━━━━━━━━━━━━━\u001b[0m \u001b[32m62.7/62.7 kB\u001b[0m \u001b[31m6.5 MB/s\u001b[0m eta \u001b[36m0:00:00\u001b[0m\n",
            "\u001b[2K     \u001b[90m━━━━━━━━━━━━━━━━━━━━━━━━━━━━━━━━━━━━━━\u001b[0m \u001b[32m341.8/341.8 kB\u001b[0m \u001b[31m26.9 MB/s\u001b[0m eta \u001b[36m0:00:00\u001b[0m\n",
            "\u001b[?25h  Building wheel for validators (setup.py) ... \u001b[?25l\u001b[?25hdone\n",
            "\u001b[2K     \u001b[90m━━━━━━━━━━━━━━━━━━━━━━━━━━━━━━━━━━━━━━━\u001b[0m \u001b[32m681.2/681.2 kB\u001b[0m \u001b[31m5.9 MB/s\u001b[0m eta \u001b[36m0:00:00\u001b[0m\n",
            "\u001b[?25h  Preparing metadata (setup.py) ... \u001b[?25l\u001b[?25hdone\n",
            "  Building wheel for pyngrok (setup.py) ... \u001b[?25l\u001b[?25hdone\n"
          ]
        }
      ],
      "source": [
        "!pip install -q streamlit\n",
        "!pip install -q pyngrok"
      ]
    },
    {
      "cell_type": "markdown",
      "metadata": {
        "id": "KtXTbcNb85kV"
      },
      "source": [
        "### 1.2 Setup DL model using streamlit"
      ]
    },
    {
      "cell_type": "code",
      "execution_count": 2,
      "metadata": {
        "colab": {
          "base_uri": "https://localhost:8080/"
        },
        "id": "TQMXX9pwUl8R",
        "outputId": "986e3207-ba24-4a8c-d459-86fbc4968da9"
      },
      "outputs": [
        {
          "output_type": "stream",
          "name": "stdout",
          "text": [
            "--2023-08-10 03:37:10--  https://s3.amazonaws.com/deep-learning-models/image-models/imagenet_class_index.json\n",
            "Resolving s3.amazonaws.com (s3.amazonaws.com)... 52.216.61.248, 52.216.44.16, 52.217.120.88, ...\n",
            "Connecting to s3.amazonaws.com (s3.amazonaws.com)|52.216.61.248|:443... connected.\n",
            "HTTP request sent, awaiting response... 200 OK\n",
            "Length: 35363 (35K) [application/octet-stream]\n",
            "Saving to: ‘imagenet_class_index.json’\n",
            "\n",
            "\r          imagenet_   0%[                    ]       0  --.-KB/s               \rimagenet_class_inde 100%[===================>]  34.53K  --.-KB/s    in 0.02s   \n",
            "\n",
            "2023-08-10 03:37:10 (1.84 MB/s) - ‘imagenet_class_index.json’ saved [35363/35363]\n",
            "\n"
          ]
        }
      ],
      "source": [
        "# download imagenet classes\n",
        "!wget https://s3.amazonaws.com/deep-learning-models/image-models/imagenet_class_index.json"
      ]
    },
    {
      "cell_type": "code",
      "execution_count": 3,
      "metadata": {
        "colab": {
          "base_uri": "https://localhost:8080/"
        },
        "id": "ghUcHCkXTP-x",
        "outputId": "a5df125e-cba3-4244-bd03-f501eac9c5dd"
      },
      "outputs": [
        {
          "output_type": "stream",
          "name": "stdout",
          "text": [
            "Writing app.py\n"
          ]
        }
      ],
      "source": [
        "%%writefile app.py\n",
        "\n",
        "## create streamlit app\n",
        "\n",
        "# import required libraries and modules\n",
        "import json\n",
        "import numpy as np\n",
        "import matplotlib.pyplot as plt\n",
        "\n",
        "import torch\n",
        "from PIL import Image\n",
        "from torchvision import transforms\n",
        "from torchvision.models import densenet121\n",
        "\n",
        "import streamlit as st\n",
        "\n",
        "# define prediction function\n",
        "def predict(image):\n",
        "    # load DL model\n",
        "    model = densenet121(pretrained=True)\n",
        "\n",
        "    model.eval()\n",
        "\n",
        "    # load classes\n",
        "    with open('imagenet_class_index.json', 'r') as f:\n",
        "        classes = json.load(f)\n",
        "\n",
        "    # preprocess image\n",
        "    preprocess = transforms.Compose([\n",
        "        transforms.Resize(256),\n",
        "        transforms.CenterCrop(224),\n",
        "        transforms.ToTensor(),\n",
        "        transforms.Normalize(mean=[0.485, 0.456, 0.406], std=[0.229, 0.224, 0.225]),\n",
        "    ])\n",
        "    input_tensor = preprocess(input_image)\n",
        "    input_batch = input_tensor.unsqueeze(0) # create a mini-batch as expected by the model\n",
        "\n",
        "    # get prediction\n",
        "    with torch.no_grad():\n",
        "        output = model(input_batch)\n",
        "\n",
        "    pred = torch.nn.functional.softmax(output[0], dim=0).cpu().numpy()\n",
        "\n",
        "    # return confidence and label\n",
        "    confidence = round(max(pred)*100, 2)\n",
        "    label = classes[str(np.argmax(pred))][1]\n",
        "\n",
        "    return confidence, label\n",
        "\n",
        "# define image file uploader\n",
        "image = st.file_uploader(\"Upload image here\")\n",
        "\n",
        "# define button for getting prediction\n",
        "if image is not None and st.button(\"Get prediction\"):\n",
        "    # load image using PIL\n",
        "    input_image = Image.open(image)\n",
        "\n",
        "    # show image\n",
        "    st.image(input_image, use_column_width=True)\n",
        "\n",
        "    # get prediction\n",
        "    confidence, label = predict(input_image)\n",
        "\n",
        "    # print results\n",
        "    \"Model is\", confidence, \"% confident that this image is of a\", label"
      ]
    },
    {
      "cell_type": "markdown",
      "metadata": {
        "id": "5S9s11khrsWx"
      },
      "source": [
        "### 1.3 Deploy DL model on Colab"
      ]
    },
    {
      "cell_type": "code",
      "execution_count": 4,
      "metadata": {
        "id": "gGggN7mpTXGp"
      },
      "outputs": [],
      "source": [
        "# run streamlit app\n",
        "!streamlit run app.py &>/dev/null&"
      ]
    },
    {
      "cell_type": "code",
      "execution_count": 6,
      "metadata": {
        "colab": {
          "base_uri": "https://localhost:8080/"
        },
        "id": "uGstXrZbTkJH",
        "outputId": "a124f7ff-3a68-4f11-f330-087bd5177130"
      },
      "outputs": [
        {
          "output_type": "execute_result",
          "data": {
            "text/plain": [
              "<NgrokTunnel: \"https://4a6c-34-73-107-39.ngrok.io\" -> \"http://localhost:8501\">"
            ]
          },
          "metadata": {},
          "execution_count": 6
        }
      ],
      "source": [
        "# make streamlit app available publicly\n",
        "from pyngrok import ngrok\n",
        "\n",
        "public_url = ngrok.connect('8501');\n",
        "\n",
        "public_url"
      ]
    },
    {
      "cell_type": "code",
      "execution_count": null,
      "metadata": {
        "id": "bKwEuO3VUBcG"
      },
      "outputs": [],
      "source": []
    }
  ],
  "metadata": {
    "colab": {
      "provenance": []
    },
    "kernelspec": {
      "display_name": "Python 3 (ipykernel)",
      "language": "python",
      "name": "python3"
    },
    "language_info": {
      "codemirror_mode": {
        "name": "ipython",
        "version": 3
      },
      "file_extension": ".py",
      "mimetype": "text/x-python",
      "name": "python",
      "nbconvert_exporter": "python",
      "pygments_lexer": "ipython3",
      "version": "3.9.7"
    }
  },
  "nbformat": 4,
  "nbformat_minor": 0
}